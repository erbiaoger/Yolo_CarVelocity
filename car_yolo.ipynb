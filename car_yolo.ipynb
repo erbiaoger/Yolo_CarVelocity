{
 "cells": [
  {
   "cell_type": "code",
   "execution_count": 6,
   "metadata": {},
   "outputs": [],
   "source": [
    "# from ultralytics import YOLO\n",
    "\n",
    "# # 加载一个模型\n",
    "# model = YOLO('yolov8s.yaml')  # 从YAML建立一个新模型\n",
    "\n",
    "# # 训练模型\n",
    "# results = model.train(data='./car_dataset.yaml', epochs=400, imgsz=128, device=[0], nms=True, iou=0.2)  # 0.1 三辆车只能识别出两辆  0.3 识别单辆车会是两个框"
   ]
  },
  {
   "cell_type": "code",
   "execution_count": 1,
   "metadata": {},
   "outputs": [],
   "source": [
    "from ultralytics import YOLO\n",
    "\n",
    "# 加载一个模型\n",
    "model = YOLO('runs/detect/train13/weights/best.pt')  # 从YAML建立一个新模型"
   ]
  },
  {
   "cell_type": "code",
   "execution_count": 2,
   "metadata": {},
   "outputs": [],
   "source": [
    "import pathlib\n",
    "\n",
    "# list_file = pathlib.Path('datasets/car_dataset/images/train').glob('*.png')\n",
    "list_file = pathlib.Path('/home/lty/CUT_plus/results/car_some_data/test_latest/images/fake_B').glob('*.png')\n",
    "files = [str(file) for file in list_file]"
   ]
  },
  {
   "cell_type": "code",
   "execution_count": 3,
   "metadata": {},
   "outputs": [
    {
     "name": "stdout",
     "output_type": "stream",
     "text": [
      "\n",
      "0: 128x128 1 down, 1: 128x128 (no detections), 2: 128x128 1 down, 3: 128x128 (no detections), 4: 128x128 (no detections), 5: 128x128 1 down, 6: 128x128 1 up, 7: 128x128 (no detections), 8: 128x128 (no detections), 9: 128x128 (no detections), 10: 128x128 (no detections), 11: 128x128 1 down, 12: 128x128 (no detections), 13: 128x128 (no detections), 14: 128x128 1 down, 15: 128x128 1 up, 16: 128x128 (no detections), 17: 128x128 1 up, 18: 128x128 1 down, 19: 128x128 (no detections), 20: 128x128 (no detections), 21: 128x128 (no detections), 22: 128x128 (no detections), 23: 128x128 (no detections), 24: 128x128 (no detections), 25: 128x128 (no detections), 26: 128x128 1 down, 1 up, 27: 128x128 (no detections), 28: 128x128 (no detections), 29: 128x128 (no detections), 30: 128x128 (no detections), 31: 128x128 (no detections), 32: 128x128 (no detections), 33: 128x128 1 up, 34: 128x128 (no detections), 35: 128x128 (no detections), 36: 128x128 (no detections), 37: 128x128 (no detections), 38: 128x128 1 down, 39: 128x128 (no detections), 40: 128x128 (no detections), 41: 128x128 (no detections), 42: 128x128 (no detections), 43: 128x128 (no detections), 44: 128x128 (no detections), 45: 128x128 2 downs, 46: 128x128 (no detections), 47: 128x128 (no detections), 48: 128x128 1 down, 49: 128x128 2 downs, 50: 128x128 (no detections), 51: 128x128 (no detections), 52: 128x128 (no detections), 53: 128x128 (no detections), 54: 128x128 (no detections), 55: 128x128 (no detections), 56: 128x128 (no detections), 57: 128x128 (no detections), 58: 128x128 (no detections), 59: 128x128 (no detections), 60: 128x128 (no detections), 61: 128x128 (no detections), 62: 128x128 (no detections), 63: 128x128 (no detections), 64: 128x128 (no detections), 65: 128x128 (no detections), 66: 128x128 1 down, 67: 128x128 1 down, 68: 128x128 (no detections), 69: 128x128 (no detections), 70: 128x128 (no detections), 71: 128x128 1 up, 72: 128x128 (no detections), 73: 128x128 1 down, 1 up, 74: 128x128 1 down, 75: 128x128 (no detections), 76: 128x128 (no detections), 77: 128x128 (no detections), 78: 128x128 1 down, 79: 128x128 (no detections), 80: 128x128 (no detections), 81: 128x128 (no detections), 82: 128x128 (no detections), 83: 128x128 1 down, 84: 128x128 1 up, 85: 128x128 (no detections), 86: 128x128 (no detections), 87: 128x128 (no detections), 88: 128x128 1 down, 89: 128x128 (no detections), 90: 128x128 (no detections), 91: 128x128 (no detections), 92: 128x128 1 down, 93: 128x128 (no detections), 94: 128x128 (no detections), 95: 128x128 (no detections), 96: 128x128 1 down, 97: 128x128 (no detections), 98: 128x128 (no detections), 99: 128x128 (no detections), 100: 128x128 1 down, 101: 128x128 (no detections), 102: 128x128 1 down, 103: 128x128 (no detections), 104: 128x128 (no detections), 105: 128x128 (no detections), 106: 128x128 1 up, 107: 128x128 (no detections), 108: 128x128 (no detections), 109: 128x128 1 down, 110: 128x128 1 down, 111: 128x128 (no detections), 112: 128x128 1 down, 113: 128x128 (no detections), 114: 128x128 (no detections), 115: 128x128 1 up, 116: 128x128 (no detections), 117: 128x128 1 down, 118: 128x128 (no detections), 119: 128x128 (no detections), 120: 128x128 (no detections), 121: 128x128 (no detections), 122: 128x128 1 down, 123: 128x128 (no detections), 124: 128x128 1 up, 125: 128x128 (no detections), 126: 128x128 (no detections), 127: 128x128 (no detections), 128: 128x128 (no detections), 129: 128x128 (no detections), 130: 128x128 (no detections), 131: 128x128 (no detections), 132: 128x128 (no detections), 133: 128x128 1 up, 134: 128x128 (no detections), 135: 128x128 (no detections), 136: 128x128 (no detections), 137: 128x128 (no detections), 138: 128x128 (no detections), 139: 128x128 (no detections), 140: 128x128 (no detections), 141: 128x128 (no detections), 142: 128x128 (no detections), 143: 128x128 (no detections), 144: 128x128 (no detections), 145: 128x128 1 down, 146: 128x128 (no detections), 147: 128x128 (no detections), 148: 128x128 (no detections), 149: 128x128 (no detections), 150: 128x128 (no detections), 151: 128x128 (no detections), 152: 128x128 (no detections), 153: 128x128 (no detections), 154: 128x128 (no detections), 155: 128x128 (no detections), 156: 128x128 (no detections), 157: 128x128 1 down, 158: 128x128 (no detections), 159: 128x128 (no detections), 160: 128x128 (no detections), 161: 128x128 (no detections), 162: 128x128 (no detections), 163: 128x128 (no detections), 164: 128x128 1 down, 165: 128x128 (no detections), 166: 128x128 (no detections), 167: 128x128 1 down, 168: 128x128 1 up, 169: 128x128 (no detections), 170: 128x128 (no detections), 171: 128x128 (no detections), 172: 128x128 (no detections), 173: 128x128 (no detections), 174: 128x128 (no detections), 175: 128x128 (no detections), 176: 128x128 1 down, 177: 128x128 (no detections), 178: 128x128 (no detections), 179: 128x128 (no detections), 180: 128x128 1 down, 181: 128x128 (no detections), 182: 128x128 (no detections), 183: 128x128 (no detections), 184: 128x128 1 down, 185: 128x128 1 down, 186: 128x128 (no detections), 187: 128x128 (no detections), 188: 128x128 (no detections), 189: 128x128 (no detections), 190: 128x128 (no detections), 191: 128x128 (no detections), 192: 128x128 (no detections), 193: 128x128 1 down, 194: 128x128 1 down, 195: 128x128 (no detections), 196: 128x128 (no detections), 197: 128x128 (no detections), 198: 128x128 (no detections), 199: 128x128 1 down, 1 up, 200: 128x128 (no detections), 201: 128x128 1 down, 202: 128x128 (no detections), 203: 128x128 1 down, 204: 128x128 (no detections), 205: 128x128 (no detections), 206: 128x128 (no detections), 207: 128x128 (no detections), 208: 128x128 1 up, 209: 128x128 1 down, 210: 128x128 (no detections), 211: 128x128 (no detections), 212: 128x128 (no detections), 213: 128x128 (no detections), 214: 128x128 1 down, 215: 128x128 1 down, 216: 128x128 (no detections), 217: 128x128 (no detections), 218: 128x128 1 down, 219: 128x128 (no detections), 220: 128x128 (no detections), 221: 128x128 (no detections), 222: 128x128 (no detections), 223: 128x128 (no detections), 224: 128x128 (no detections), 225: 128x128 1 down, 226: 128x128 (no detections), 227: 128x128 (no detections), 228: 128x128 1 down, 229: 128x128 (no detections), 230: 128x128 (no detections), 231: 128x128 (no detections), 232: 128x128 1 down, 233: 128x128 (no detections), 234: 128x128 (no detections), 235: 128x128 (no detections), 236: 128x128 (no detections), 237: 128x128 (no detections), 238: 128x128 (no detections), 239: 128x128 (no detections), 240: 128x128 (no detections), 241: 128x128 (no detections), 242: 128x128 1 down, 243: 128x128 2 ups, 244: 128x128 (no detections), 245: 128x128 (no detections), 246: 128x128 1 down, 247: 128x128 1 down, 248: 128x128 2 downs, 249: 128x128 (no detections), 250: 128x128 (no detections), 251: 128x128 2 downs, 252: 128x128 (no detections), 253: 128x128 1 down, 254: 128x128 1 down, 255: 128x128 1 down, 256: 128x128 (no detections), 257: 128x128 (no detections), 258: 128x128 (no detections), 259: 128x128 (no detections), 260: 128x128 (no detections), 261: 128x128 (no detections), 262: 128x128 1 down, 263: 128x128 (no detections), 264: 128x128 (no detections), 265: 128x128 (no detections), 266: 128x128 (no detections), 267: 128x128 1 down, 268: 128x128 (no detections), 269: 128x128 (no detections), 270: 128x128 (no detections), 271: 128x128 (no detections), 272: 128x128 (no detections), 273: 128x128 (no detections), 274: 128x128 (no detections), 275: 128x128 2 downs, 276: 128x128 (no detections), 277: 128x128 (no detections), 278: 128x128 (no detections), 279: 128x128 1 down, 280: 128x128 (no detections), 281: 128x128 (no detections), 282: 128x128 (no detections), 283: 128x128 (no detections), 284: 128x128 (no detections), 285: 128x128 1 down, 1 up, 286: 128x128 (no detections), 287: 128x128 1 down, 1 up, 288: 128x128 (no detections), 289: 128x128 (no detections), 290: 128x128 (no detections), 291: 128x128 (no detections), 292: 128x128 (no detections), 293: 128x128 (no detections), 294: 128x128 (no detections), 295: 128x128 (no detections), 296: 128x128 (no detections), 297: 128x128 (no detections), 298: 128x128 (no detections), 299: 128x128 (no detections), 82.2ms\n",
      "Speed: 0.2ms preprocess, 0.3ms inference, 0.3ms postprocess per image at shape (1, 3, 128, 128)\n"
     ]
    }
   ],
   "source": [
    "results = model(source=files, save=False, nms=True, iou=0.2)"
   ]
  },
  {
   "cell_type": "code",
   "execution_count": 16,
   "metadata": {},
   "outputs": [
    {
     "data": {
      "text/plain": [
       "tensor([0.], device='cuda:0')"
      ]
     },
     "execution_count": 16,
     "metadata": {},
     "output_type": "execute_result"
    }
   ],
   "source": [
    "r[0].boxes.cls"
   ]
  },
  {
   "cell_type": "code",
   "execution_count": null,
   "metadata": {},
   "outputs": [],
   "source": []
  },
  {
   "cell_type": "code",
   "execution_count": 11,
   "metadata": {},
   "outputs": [
    {
     "data": {
      "text/plain": [
       "ultralytics.engine.results.Results object with attributes:\n",
       "\n",
       "boxes: ultralytics.engine.results.Boxes object\n",
       "keypoints: None\n",
       "masks: None\n",
       "names: {0: 'down', 1: 'up'}\n",
       "orig_img: array([[[185, 240, 128],\n",
       "        [176, 254, 148],\n",
       "        [140, 232, 190],\n",
       "        ...,\n",
       "        [192, 246, 106],\n",
       "        [187, 250, 113],\n",
       "        [194, 255, 100]],\n",
       "\n",
       "       [[182, 255, 120],\n",
       "        [198, 255, 109],\n",
       "        [177, 244, 136],\n",
       "        ...,\n",
       "        [199, 238,  85],\n",
       "        [210, 239,  69],\n",
       "        [203, 255,  83]],\n",
       "\n",
       "       [[177, 254, 124],\n",
       "        [183, 249, 118],\n",
       "        [193, 228,  99],\n",
       "        ...,\n",
       "        [197, 254,  95],\n",
       "        [205, 253,  85],\n",
       "        [193, 254, 101]],\n",
       "\n",
       "       ...,\n",
       "\n",
       "       [[176, 250, 138],\n",
       "        [176, 255, 135],\n",
       "        [174, 248, 136],\n",
       "        ...,\n",
       "        [176, 244, 130],\n",
       "        [176, 246, 132],\n",
       "        [176, 252, 131]],\n",
       "\n",
       "       [[171, 239, 149],\n",
       "        [178, 255, 139],\n",
       "        [176, 250, 136],\n",
       "        ...,\n",
       "        [169, 247, 141],\n",
       "        [171, 255, 140],\n",
       "        [170, 255, 143]],\n",
       "\n",
       "       [[167, 243, 149],\n",
       "        [175, 255, 140],\n",
       "        [174, 252, 138],\n",
       "        ...,\n",
       "        [165, 255, 152],\n",
       "        [170, 255, 145],\n",
       "        [173, 255, 142]]], dtype=uint8)\n",
       "orig_shape: (256, 256)\n",
       "path: '/home/lty/CUT_plus/results/car_some_data11/test_latest/images/fake_B/2023-07-23-07-55-58-out.png'\n",
       "probs: None\n",
       "save_dir: None\n",
       "speed: {'preprocess': None, 'inference': None, 'postprocess': None}"
      ]
     },
     "execution_count": 11,
     "metadata": {},
     "output_type": "execute_result"
    }
   ],
   "source": [
    "r[0]"
   ]
  },
  {
   "cell_type": "code",
   "execution_count": 17,
   "metadata": {},
   "outputs": [
    {
     "data": {
      "text/plain": [
       "ultralytics.engine.results.Boxes object with attributes:\n",
       "\n",
       "cls: tensor([0.], device='cuda:0')\n",
       "conf: tensor([0.6919], device='cuda:0')\n",
       "data: tensor([[116.1803, 189.4780, 212.1772, 256.0000,   0.6919,   0.0000]], device='cuda:0')\n",
       "id: None\n",
       "is_track: False\n",
       "orig_shape: (256, 256)\n",
       "shape: torch.Size([1, 6])\n",
       "xywh: tensor([[164.1787, 222.7390,  95.9969,  66.5220]], device='cuda:0')\n",
       "xywhn: tensor([[0.6413, 0.8701, 0.3750, 0.2599]], device='cuda:0')\n",
       "xyxy: tensor([[116.1803, 189.4780, 212.1772, 256.0000]], device='cuda:0')\n",
       "xyxyn: tensor([[0.4538, 0.7401, 0.8288, 1.0000]], device='cuda:0')"
      ]
     },
     "execution_count": 17,
     "metadata": {},
     "output_type": "execute_result"
    }
   ],
   "source": [
    "r[0].boxes"
   ]
  },
  {
   "cell_type": "code",
   "execution_count": 10,
   "metadata": {},
   "outputs": [],
   "source": [
    "import matplotlib.pyplot as plt\n",
    "%matplotlib inline\n",
    "from PIL import Image\n",
    "import cv2\n",
    "import pathlib\n",
    "\n",
    "color = (255, 193, 193)  # BGR\n",
    "\n",
    "dir_path = pathlib.Path('output1/')\n",
    "\n",
    "\n",
    "i = 0\n",
    "for r in results:\n",
    "    i += 1\n",
    "\n",
    "    boxes = r.boxes\n",
    "    # masks = r.masks\n",
    "    # probs = r.probs\n",
    "    \n",
    "    dx = 280. / r.orig_img.shape[1]\n",
    "    dt = 60. / r.orig_img.shape[0]\n",
    "\n",
    "    \n",
    "    try:\n",
    "        cls = boxes.cls.cpu().numpy().astype(int)[0]       # 类别\n",
    "        # conf = boxes.conf.cpu().numpy()                 # 置信度\n",
    "        xyxy = boxes.xyxy[0].cpu().numpy().astype(int)  # 边界框\n",
    "        # xywh = boxes.xywh[0].cpu().numpy().astype(int)  # 边界框\n",
    "    except:\n",
    "        file_name = r.path.split('/')[-1]\n",
    "        im_array = r.plot(line_width=1, font_size=0.5, boxes=False, show_raw=True, dx=dx*3.6, dt=dt)  # plot a BGR numpy array of predictions\n",
    "        im = Image.fromarray(im_array[..., ::-1])  # RGB PIL image\n",
    "        # im.show()  # show image\n",
    "        im.save(dir_path/file_name)\n",
    "        continue\n",
    "    \n",
    "    \n",
    "\n",
    "    # vel = ((xyxy[0] - xyxy[2])*dx) / ((xyxy[1] - xyxy[3])*dt) \n",
    "\n",
    "    # im = r.plot(conf=False, line_width=1, font_size=1.5, boxes=False, show_vel=True, vel=vel)  # 绘制包含预测结果的BGR numpy数组\n",
    "\n",
    "    file_name = r.path.split('/')[-1]\n",
    "    im_array = r.plot(line_width=1, boxes=False, show_raw=True, dx=dx*3.6, dt=dt)  # plot a BGR numpy array of predictions\n",
    "    im = Image.fromarray(im_array[..., ::-1])  # RGB PIL image\n",
    "    # im.show()  # show image\n",
    "    im.save(dir_path/file_name)\n"
   ]
  },
  {
   "cell_type": "code",
   "execution_count": null,
   "metadata": {},
   "outputs": [],
   "source": []
  },
  {
   "cell_type": "code",
   "execution_count": null,
   "metadata": {},
   "outputs": [],
   "source": [
    "/home/lty/CUT_plus/results/car_some_data/test_latest/images/fake_B"
   ]
  }
 ],
 "metadata": {
  "kernelspec": {
   "display_name": "base",
   "language": "python",
   "name": "python3"
  },
  "language_info": {
   "codemirror_mode": {
    "name": "ipython",
    "version": 3
   },
   "file_extension": ".py",
   "mimetype": "text/x-python",
   "name": "python",
   "nbconvert_exporter": "python",
   "pygments_lexer": "ipython3",
   "version": "3.11.5"
  }
 },
 "nbformat": 4,
 "nbformat_minor": 2
}
